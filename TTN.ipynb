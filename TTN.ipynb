{
  "nbformat": 4,
  "nbformat_minor": 0,
  "metadata": {
    "colab": {
      "private_outputs": true,
      "provenance": [],
      "authorship_tag": "ABX9TyPaiZh2tOyDerRP9vruL3aw",
      "include_colab_link": true
    },
    "kernelspec": {
      "name": "python3",
      "display_name": "Python 3"
    },
    "language_info": {
      "name": "python"
    }
  },
  "cells": [
    {
      "cell_type": "markdown",
      "metadata": {
        "id": "view-in-github",
        "colab_type": "text"
      },
      "source": [
        "<a href=\"https://colab.research.google.com/github/mushrafi88/solar_irradiation_forecasting/blob/main/TTN.ipynb\" target=\"_parent\"><img src=\"https://colab.research.google.com/assets/colab-badge.svg\" alt=\"Open In Colab\"/></a>"
      ]
    },
    {
      "cell_type": "code",
      "execution_count": null,
      "metadata": {
        "id": "-j9RmMmb0bX9"
      },
      "outputs": [],
      "source": [
        "!pip install pennylane"
      ]
    },
    {
      "cell_type": "code",
      "source": [
        "import pennylane as qml\n",
        "import numpy as np"
      ],
      "metadata": {
        "id": "m7H-1tBf0fKJ"
      },
      "execution_count": null,
      "outputs": []
    },
    {
      "cell_type": "code",
      "source": [
        "def block(weights, wires):\n",
        "    qml.RX(weights[0], wires=wires[0])\n",
        "    qml.RY(weights[1], wires=wires[1])\n",
        "    qml.CNOT(wires=wires)"
      ],
      "metadata": {
        "id": "okkU3BWl0zrt"
      },
      "execution_count": null,
      "outputs": []
    },
    {
      "cell_type": "code",
      "source": [
        "n_qubit=14\n",
        "dev = qml.device(\"default.qubit\", wires=n_qubit)\n",
        "\n",
        "\n",
        "@qml.qnode(dev, interface=\"autograd\")\n",
        "def circuit(template_weights):\n",
        "    qml.TTN(\n",
        "        wires=range(n_qubit),\n",
        "        n_block_wires=2,\n",
        "        block=block,\n",
        "        n_params_block=13,\n",
        "        template_weights=template_weights,\n",
        "    )\n",
        "    return qml.expval(qml.PauliZ(wires=13))\n",
        "\n",
        "\n",
        "np.random.seed(1)\n",
        "weights = np.random.random(size=[7, 13])\n",
        "qml.drawer.use_style(\"black_white\")\n",
        "fig, ax = qml.draw_mpl(circuit, expansion_strategy=\"device\")(weights)\n",
        "fig.set_size_inches((16, 4))\n"
      ],
      "metadata": {
        "id": "b-hKus3N0dyp"
      },
      "execution_count": null,
      "outputs": []
    },
    {
      "cell_type": "code",
      "source": [],
      "metadata": {
        "id": "hO1tACh70nPW"
      },
      "execution_count": null,
      "outputs": []
    }
  ]
}