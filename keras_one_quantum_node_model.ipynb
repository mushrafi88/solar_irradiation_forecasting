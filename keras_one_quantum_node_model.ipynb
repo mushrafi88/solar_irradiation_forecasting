{
  "metadata": {
    "kernelspec": {
      "language": "python",
      "display_name": "Python 3",
      "name": "python3"
    },
    "language_info": {
      "name": "python",
      "version": "3.7.12",
      "mimetype": "text/x-python",
      "codemirror_mode": {
        "name": "ipython",
        "version": 3
      },
      "pygments_lexer": "ipython3",
      "nbconvert_exporter": "python",
      "file_extension": ".py"
    },
    "colab": {
      "provenance": [],
      "include_colab_link": true
    },
    "accelerator": "GPU",
    "gpuClass": "standard"
  },
  "nbformat_minor": 0,
  "nbformat": 4,
  "cells": [
    {
      "cell_type": "markdown",
      "metadata": {
        "id": "view-in-github",
        "colab_type": "text"
      },
      "source": [
        "<a href=\"https://colab.research.google.com/github/mushrafi88/solar_irradiation_forecasting/blob/main/keras_one_quantum_node_model.ipynb\" target=\"_parent\"><img src=\"https://colab.research.google.com/assets/colab-badge.svg\" alt=\"Open In Colab\"/></a>"
      ]
    },
    {
      "cell_type": "markdown",
      "source": [
        "# Installing Libraries"
      ],
      "metadata": {
        "id": "ooCzxKzrMNmO"
      }
    },
    {
      "cell_type": "code",
      "source": [
        "!pip install pip install tensorflow==2.7.0\n",
        "!pip install pennylane"
      ],
      "metadata": {
        "execution": {
          "iopub.status.busy": "2022-10-25T21:33:57.610042Z",
          "iopub.execute_input": "2022-10-25T21:33:57.610457Z",
          "iopub.status.idle": "2022-10-25T21:35:49.926474Z",
          "shell.execute_reply.started": "2022-10-25T21:33:57.610372Z",
          "shell.execute_reply": "2022-10-25T21:35:49.925329Z"
        },
        "trusted": true,
        "id": "FlZNuAbyfCpk",
        "outputId": "162f81fe-4eb5-40e9-cb55-c72afbdf30dd",
        "colab": {
          "base_uri": "https://localhost:8080/"
        }
      },
      "execution_count": 1,
      "outputs": [
        {
          "output_type": "stream",
          "name": "stdout",
          "text": [
            "Looking in indexes: https://pypi.org/simple, https://us-python.pkg.dev/colab-wheels/public/simple/\n",
            "Requirement already satisfied: pip in /usr/local/lib/python3.9/dist-packages (22.0.4)\n",
            "Collecting install\n",
            "  Downloading install-1.3.5-py3-none-any.whl (3.2 kB)\n",
            "Collecting tensorflow==2.7.0\n",
            "  Downloading tensorflow-2.7.0-cp39-cp39-manylinux2010_x86_64.whl (489.7 MB)\n",
            "\u001b[2K     \u001b[90m━━━━━━━━━━━━━━━━━━━━━━━━━━━━━━━━━━━━━━━\u001b[0m \u001b[32m489.7/489.7 MB\u001b[0m \u001b[31m1.6 MB/s\u001b[0m eta \u001b[36m0:00:00\u001b[0m\n",
            "\u001b[?25hRequirement already satisfied: six>=1.12.0 in /usr/local/lib/python3.9/dist-packages (from tensorflow==2.7.0) (1.15.0)\n",
            "Requirement already satisfied: termcolor>=1.1.0 in /usr/local/lib/python3.9/dist-packages (from tensorflow==2.7.0) (2.2.0)\n",
            "Requirement already satisfied: protobuf>=3.9.2 in /usr/local/lib/python3.9/dist-packages (from tensorflow==2.7.0) (3.19.6)\n",
            "Requirement already satisfied: tensorboard~=2.6 in /usr/local/lib/python3.9/dist-packages (from tensorflow==2.7.0) (2.11.2)\n",
            "Collecting keras-preprocessing>=1.1.1\n",
            "  Downloading Keras_Preprocessing-1.1.2-py2.py3-none-any.whl (42 kB)\n",
            "\u001b[2K     \u001b[90m━━━━━━━━━━━━━━━━━━━━━━━━━━━━━━━━━━━━━━━━\u001b[0m \u001b[32m42.6/42.6 KB\u001b[0m \u001b[31m4.6 MB/s\u001b[0m eta \u001b[36m0:00:00\u001b[0m\n",
            "\u001b[?25hCollecting tensorflow-estimator<2.8,~=2.7.0rc0\n",
            "  Downloading tensorflow_estimator-2.7.0-py2.py3-none-any.whl (463 kB)\n",
            "\u001b[2K     \u001b[90m━━━━━━━━━━━━━━━━━━━━━━━━━━━━━━━━━━━━━━\u001b[0m \u001b[32m463.1/463.1 KB\u001b[0m \u001b[31m28.0 MB/s\u001b[0m eta \u001b[36m0:00:00\u001b[0m\n",
            "\u001b[?25hRequirement already satisfied: google-pasta>=0.1.1 in /usr/local/lib/python3.9/dist-packages (from tensorflow==2.7.0) (0.2.0)\n",
            "Requirement already satisfied: h5py>=2.9.0 in /usr/local/lib/python3.9/dist-packages (from tensorflow==2.7.0) (3.1.0)\n",
            "Requirement already satisfied: libclang>=9.0.1 in /usr/local/lib/python3.9/dist-packages (from tensorflow==2.7.0) (15.0.6.1)\n",
            "Requirement already satisfied: opt-einsum>=2.3.2 in /usr/local/lib/python3.9/dist-packages (from tensorflow==2.7.0) (3.3.0)\n",
            "Requirement already satisfied: wheel<1.0,>=0.32.0 in /usr/local/lib/python3.9/dist-packages (from tensorflow==2.7.0) (0.38.4)\n",
            "Requirement already satisfied: gast<0.5.0,>=0.2.1 in /usr/local/lib/python3.9/dist-packages (from tensorflow==2.7.0) (0.4.0)\n",
            "Requirement already satisfied: absl-py>=0.4.0 in /usr/local/lib/python3.9/dist-packages (from tensorflow==2.7.0) (1.4.0)\n",
            "Requirement already satisfied: astunparse>=1.6.0 in /usr/local/lib/python3.9/dist-packages (from tensorflow==2.7.0) (1.6.3)\n",
            "Collecting flatbuffers<3.0,>=1.12\n",
            "  Downloading flatbuffers-2.0.7-py2.py3-none-any.whl (26 kB)\n",
            "Collecting keras<2.8,>=2.7.0rc0\n",
            "  Downloading keras-2.7.0-py2.py3-none-any.whl (1.3 MB)\n",
            "\u001b[2K     \u001b[90m━━━━━━━━━━━━━━━━━━━━━━━━━━━━━━━━━━━━━━━━\u001b[0m \u001b[32m1.3/1.3 MB\u001b[0m \u001b[31m38.8 MB/s\u001b[0m eta \u001b[36m0:00:00\u001b[0m\n",
            "\u001b[?25hRequirement already satisfied: numpy>=1.14.5 in /usr/local/lib/python3.9/dist-packages (from tensorflow==2.7.0) (1.22.4)\n",
            "Requirement already satisfied: typing-extensions>=3.6.6 in /usr/local/lib/python3.9/dist-packages (from tensorflow==2.7.0) (4.5.0)\n",
            "Requirement already satisfied: tensorflow-io-gcs-filesystem>=0.21.0 in /usr/local/lib/python3.9/dist-packages (from tensorflow==2.7.0) (0.31.0)\n",
            "Requirement already satisfied: grpcio<2.0,>=1.24.3 in /usr/local/lib/python3.9/dist-packages (from tensorflow==2.7.0) (1.51.3)\n",
            "Requirement already satisfied: wrapt>=1.11.0 in /usr/local/lib/python3.9/dist-packages (from tensorflow==2.7.0) (1.15.0)\n",
            "Requirement already satisfied: requests<3,>=2.21.0 in /usr/local/lib/python3.9/dist-packages (from tensorboard~=2.6->tensorflow==2.7.0) (2.25.1)\n",
            "Requirement already satisfied: tensorboard-data-server<0.7.0,>=0.6.0 in /usr/local/lib/python3.9/dist-packages (from tensorboard~=2.6->tensorflow==2.7.0) (0.6.1)\n",
            "Requirement already satisfied: google-auth-oauthlib<0.5,>=0.4.1 in /usr/local/lib/python3.9/dist-packages (from tensorboard~=2.6->tensorflow==2.7.0) (0.4.6)\n",
            "Requirement already satisfied: google-auth<3,>=1.6.3 in /usr/local/lib/python3.9/dist-packages (from tensorboard~=2.6->tensorflow==2.7.0) (2.16.2)\n",
            "Requirement already satisfied: markdown>=2.6.8 in /usr/local/lib/python3.9/dist-packages (from tensorboard~=2.6->tensorflow==2.7.0) (3.4.1)\n",
            "Requirement already satisfied: setuptools>=41.0.0 in /usr/local/lib/python3.9/dist-packages (from tensorboard~=2.6->tensorflow==2.7.0) (57.4.0)\n",
            "Requirement already satisfied: tensorboard-plugin-wit>=1.6.0 in /usr/local/lib/python3.9/dist-packages (from tensorboard~=2.6->tensorflow==2.7.0) (1.8.1)\n",
            "Requirement already satisfied: werkzeug>=1.0.1 in /usr/local/lib/python3.9/dist-packages (from tensorboard~=2.6->tensorflow==2.7.0) (2.2.3)\n",
            "Requirement already satisfied: rsa<5,>=3.1.4 in /usr/local/lib/python3.9/dist-packages (from google-auth<3,>=1.6.3->tensorboard~=2.6->tensorflow==2.7.0) (4.9)\n",
            "Requirement already satisfied: cachetools<6.0,>=2.0.0 in /usr/local/lib/python3.9/dist-packages (from google-auth<3,>=1.6.3->tensorboard~=2.6->tensorflow==2.7.0) (5.3.0)\n",
            "Requirement already satisfied: pyasn1-modules>=0.2.1 in /usr/local/lib/python3.9/dist-packages (from google-auth<3,>=1.6.3->tensorboard~=2.6->tensorflow==2.7.0) (0.2.8)\n",
            "Requirement already satisfied: requests-oauthlib>=0.7.0 in /usr/local/lib/python3.9/dist-packages (from google-auth-oauthlib<0.5,>=0.4.1->tensorboard~=2.6->tensorflow==2.7.0) (1.3.1)\n",
            "Requirement already satisfied: importlib-metadata>=4.4 in /usr/local/lib/python3.9/dist-packages (from markdown>=2.6.8->tensorboard~=2.6->tensorflow==2.7.0) (6.0.0)\n",
            "Requirement already satisfied: certifi>=2017.4.17 in /usr/local/lib/python3.9/dist-packages (from requests<3,>=2.21.0->tensorboard~=2.6->tensorflow==2.7.0) (2022.12.7)\n",
            "Requirement already satisfied: chardet<5,>=3.0.2 in /usr/local/lib/python3.9/dist-packages (from requests<3,>=2.21.0->tensorboard~=2.6->tensorflow==2.7.0) (4.0.0)\n",
            "Requirement already satisfied: urllib3<1.27,>=1.21.1 in /usr/local/lib/python3.9/dist-packages (from requests<3,>=2.21.0->tensorboard~=2.6->tensorflow==2.7.0) (1.26.14)\n",
            "Requirement already satisfied: idna<3,>=2.5 in /usr/local/lib/python3.9/dist-packages (from requests<3,>=2.21.0->tensorboard~=2.6->tensorflow==2.7.0) (2.10)\n",
            "Requirement already satisfied: MarkupSafe>=2.1.1 in /usr/local/lib/python3.9/dist-packages (from werkzeug>=1.0.1->tensorboard~=2.6->tensorflow==2.7.0) (2.1.2)\n",
            "Requirement already satisfied: zipp>=0.5 in /usr/local/lib/python3.9/dist-packages (from importlib-metadata>=4.4->markdown>=2.6.8->tensorboard~=2.6->tensorflow==2.7.0) (3.15.0)\n",
            "Requirement already satisfied: pyasn1<0.5.0,>=0.4.6 in /usr/local/lib/python3.9/dist-packages (from pyasn1-modules>=0.2.1->google-auth<3,>=1.6.3->tensorboard~=2.6->tensorflow==2.7.0) (0.4.8)\n",
            "Requirement already satisfied: oauthlib>=3.0.0 in /usr/local/lib/python3.9/dist-packages (from requests-oauthlib>=0.7.0->google-auth-oauthlib<0.5,>=0.4.1->tensorboard~=2.6->tensorflow==2.7.0) (3.2.2)\n",
            "Installing collected packages: tensorflow-estimator, keras, flatbuffers, keras-preprocessing, install, tensorflow\n",
            "  Attempting uninstall: tensorflow-estimator\n",
            "    Found existing installation: tensorflow-estimator 2.11.0\n",
            "    Uninstalling tensorflow-estimator-2.11.0:\n",
            "      Successfully uninstalled tensorflow-estimator-2.11.0\n",
            "  Attempting uninstall: keras\n",
            "    Found existing installation: keras 2.11.0\n",
            "    Uninstalling keras-2.11.0:\n",
            "      Successfully uninstalled keras-2.11.0\n",
            "  Attempting uninstall: flatbuffers\n",
            "    Found existing installation: flatbuffers 23.3.3\n",
            "    Uninstalling flatbuffers-23.3.3:\n",
            "      Successfully uninstalled flatbuffers-23.3.3\n",
            "  Attempting uninstall: tensorflow\n",
            "    Found existing installation: tensorflow 2.11.0\n",
            "    Uninstalling tensorflow-2.11.0:\n",
            "      Successfully uninstalled tensorflow-2.11.0\n",
            "Successfully installed flatbuffers-2.0.7 install-1.3.5 keras-2.7.0 keras-preprocessing-1.1.2 tensorflow-2.7.0 tensorflow-estimator-2.7.0\n",
            "Looking in indexes: https://pypi.org/simple, https://us-python.pkg.dev/colab-wheels/public/simple/\n",
            "Collecting pennylane\n",
            "  Downloading PennyLane-0.29.1-py3-none-any.whl (1.3 MB)\n",
            "\u001b[2K     \u001b[90m━━━━━━━━━━━━━━━━━━━━━━━━━━━━━━━━━━━━━━━━\u001b[0m \u001b[32m1.3/1.3 MB\u001b[0m \u001b[31m24.5 MB/s\u001b[0m eta \u001b[36m0:00:00\u001b[0m\n",
            "\u001b[?25hRequirement already satisfied: cachetools in /usr/local/lib/python3.9/dist-packages (from pennylane) (5.3.0)\n",
            "Requirement already satisfied: requests in /usr/local/lib/python3.9/dist-packages (from pennylane) (2.25.1)\n",
            "Requirement already satisfied: autograd in /usr/local/lib/python3.9/dist-packages (from pennylane) (1.5)\n",
            "Collecting appdirs\n",
            "  Downloading appdirs-1.4.4-py2.py3-none-any.whl (9.6 kB)\n",
            "Collecting retworkx\n",
            "  Downloading retworkx-0.12.1-py3-none-any.whl (10 kB)\n",
            "Collecting semantic-version>=2.7\n",
            "  Downloading semantic_version-2.10.0-py2.py3-none-any.whl (15 kB)\n",
            "Collecting pennylane-lightning>=0.28\n",
            "  Downloading PennyLane_Lightning-0.29.0-cp39-cp39-manylinux_2_17_x86_64.manylinux2014_x86_64.whl (16.5 MB)\n",
            "\u001b[2K     \u001b[90m━━━━━━━━━━━━━━━━━━━━━━━━━━━━━━━━━━━━━━━━\u001b[0m \u001b[32m16.5/16.5 MB\u001b[0m \u001b[31m47.7 MB/s\u001b[0m eta \u001b[36m0:00:00\u001b[0m\n",
            "\u001b[?25hRequirement already satisfied: scipy in /usr/local/lib/python3.9/dist-packages (from pennylane) (1.10.1)\n",
            "Requirement already satisfied: toml in /usr/local/lib/python3.9/dist-packages (from pennylane) (0.10.2)\n",
            "Requirement already satisfied: networkx in /usr/local/lib/python3.9/dist-packages (from pennylane) (3.0)\n",
            "Requirement already satisfied: numpy<1.24 in /usr/local/lib/python3.9/dist-packages (from pennylane) (1.22.4)\n",
            "Collecting autoray>=0.3.1\n",
            "  Downloading autoray-0.6.1-py3-none-any.whl (47 kB)\n",
            "\u001b[2K     \u001b[90m━━━━━━━━━━━━━━━━━━━━━━━━━━━━━━━━━━━━━━━━\u001b[0m \u001b[32m47.3/47.3 KB\u001b[0m \u001b[31m6.1 MB/s\u001b[0m eta \u001b[36m0:00:00\u001b[0m\n",
            "\u001b[?25hRequirement already satisfied: future>=0.15.2 in /usr/local/lib/python3.9/dist-packages (from autograd->pennylane) (0.16.0)\n",
            "Requirement already satisfied: chardet<5,>=3.0.2 in /usr/local/lib/python3.9/dist-packages (from requests->pennylane) (4.0.0)\n",
            "Requirement already satisfied: certifi>=2017.4.17 in /usr/local/lib/python3.9/dist-packages (from requests->pennylane) (2022.12.7)\n",
            "Requirement already satisfied: idna<3,>=2.5 in /usr/local/lib/python3.9/dist-packages (from requests->pennylane) (2.10)\n",
            "Requirement already satisfied: urllib3<1.27,>=1.21.1 in /usr/local/lib/python3.9/dist-packages (from requests->pennylane) (1.26.14)\n",
            "Collecting rustworkx==0.12.1\n",
            "  Downloading rustworkx-0.12.1-cp39-cp39-manylinux_2_17_x86_64.manylinux2014_x86_64.whl (1.9 MB)\n",
            "\u001b[2K     \u001b[90m━━━━━━━━━━━━━━━━━━━━━━━━━━━━━━━━━━━━━━━━\u001b[0m \u001b[32m1.9/1.9 MB\u001b[0m \u001b[31m58.6 MB/s\u001b[0m eta \u001b[36m0:00:00\u001b[0m\n",
            "\u001b[?25hInstalling collected packages: appdirs, semantic-version, rustworkx, autoray, retworkx, pennylane-lightning, pennylane\n",
            "Successfully installed appdirs-1.4.4 autoray-0.6.1 pennylane-0.29.1 pennylane-lightning-0.29.0 retworkx-0.12.1 rustworkx-0.12.1 semantic-version-2.10.0\n"
          ]
        }
      ]
    },
    {
      "cell_type": "code",
      "source": [
        "!pip install pennylane-lightning[gpu]"
      ],
      "metadata": {
        "id": "oH2lPfc6l382",
        "outputId": "f4175d98-5abe-44dd-d6d8-65f0099066de",
        "colab": {
          "base_uri": "https://localhost:8080/"
        }
      },
      "execution_count": 2,
      "outputs": [
        {
          "output_type": "stream",
          "name": "stdout",
          "text": [
            "Looking in indexes: https://pypi.org/simple, https://us-python.pkg.dev/colab-wheels/public/simple/\n",
            "Requirement already satisfied: pennylane-lightning[gpu] in /usr/local/lib/python3.9/dist-packages (0.29.0)\n",
            "Requirement already satisfied: pennylane>=0.28 in /usr/local/lib/python3.9/dist-packages (from pennylane-lightning[gpu]) (0.29.1)\n",
            "Collecting pennylane-lightning-gpu\n",
            "  Downloading PennyLane_Lightning_GPU-0.29.1-cp39-cp39-manylinux_2_17_x86_64.manylinux2014_x86_64.whl (27.8 MB)\n",
            "\u001b[2K     \u001b[90m━━━━━━━━━━━━━━━━━━━━━━━━━━━━━━━━━━━━━━━━\u001b[0m \u001b[32m27.8/27.8 MB\u001b[0m \u001b[31m18.9 MB/s\u001b[0m eta \u001b[36m0:00:00\u001b[0m\n",
            "\u001b[?25hRequirement already satisfied: scipy in /usr/local/lib/python3.9/dist-packages (from pennylane>=0.28->pennylane-lightning[gpu]) (1.10.1)\n",
            "Requirement already satisfied: cachetools in /usr/local/lib/python3.9/dist-packages (from pennylane>=0.28->pennylane-lightning[gpu]) (5.3.0)\n",
            "Requirement already satisfied: requests in /usr/local/lib/python3.9/dist-packages (from pennylane>=0.28->pennylane-lightning[gpu]) (2.25.1)\n",
            "Requirement already satisfied: numpy<1.24 in /usr/local/lib/python3.9/dist-packages (from pennylane>=0.28->pennylane-lightning[gpu]) (1.22.4)\n",
            "Requirement already satisfied: networkx in /usr/local/lib/python3.9/dist-packages (from pennylane>=0.28->pennylane-lightning[gpu]) (3.0)\n",
            "Requirement already satisfied: semantic-version>=2.7 in /usr/local/lib/python3.9/dist-packages (from pennylane>=0.28->pennylane-lightning[gpu]) (2.10.0)\n",
            "Requirement already satisfied: retworkx in /usr/local/lib/python3.9/dist-packages (from pennylane>=0.28->pennylane-lightning[gpu]) (0.12.1)\n",
            "Requirement already satisfied: toml in /usr/local/lib/python3.9/dist-packages (from pennylane>=0.28->pennylane-lightning[gpu]) (0.10.2)\n",
            "Requirement already satisfied: autograd in /usr/local/lib/python3.9/dist-packages (from pennylane>=0.28->pennylane-lightning[gpu]) (1.5)\n",
            "Requirement already satisfied: autoray>=0.3.1 in /usr/local/lib/python3.9/dist-packages (from pennylane>=0.28->pennylane-lightning[gpu]) (0.6.1)\n",
            "Requirement already satisfied: appdirs in /usr/local/lib/python3.9/dist-packages (from pennylane>=0.28->pennylane-lightning[gpu]) (1.4.4)\n",
            "Collecting ninja\n",
            "  Downloading ninja-1.11.1-py2.py3-none-manylinux_2_12_x86_64.manylinux2010_x86_64.whl (145 kB)\n",
            "\u001b[2K     \u001b[90m━━━━━━━━━━━━━━━━━━━━━━━━━━━━━━━━━━━━━━\u001b[0m \u001b[32m146.0/146.0 KB\u001b[0m \u001b[31m20.6 MB/s\u001b[0m eta \u001b[36m0:00:00\u001b[0m\n",
            "\u001b[?25hRequirement already satisfied: wheel in /usr/local/lib/python3.9/dist-packages (from pennylane-lightning-gpu->pennylane-lightning[gpu]) (0.38.4)\n",
            "Requirement already satisfied: cmake in /usr/local/lib/python3.9/dist-packages (from pennylane-lightning-gpu->pennylane-lightning[gpu]) (3.22.6)\n",
            "Requirement already satisfied: future>=0.15.2 in /usr/local/lib/python3.9/dist-packages (from autograd->pennylane>=0.28->pennylane-lightning[gpu]) (0.16.0)\n",
            "Requirement already satisfied: certifi>=2017.4.17 in /usr/local/lib/python3.9/dist-packages (from requests->pennylane>=0.28->pennylane-lightning[gpu]) (2022.12.7)\n",
            "Requirement already satisfied: urllib3<1.27,>=1.21.1 in /usr/local/lib/python3.9/dist-packages (from requests->pennylane>=0.28->pennylane-lightning[gpu]) (1.26.14)\n",
            "Requirement already satisfied: chardet<5,>=3.0.2 in /usr/local/lib/python3.9/dist-packages (from requests->pennylane>=0.28->pennylane-lightning[gpu]) (4.0.0)\n",
            "Requirement already satisfied: idna<3,>=2.5 in /usr/local/lib/python3.9/dist-packages (from requests->pennylane>=0.28->pennylane-lightning[gpu]) (2.10)\n",
            "Requirement already satisfied: rustworkx==0.12.1 in /usr/local/lib/python3.9/dist-packages (from retworkx->pennylane>=0.28->pennylane-lightning[gpu]) (0.12.1)\n",
            "Installing collected packages: ninja, pennylane-lightning-gpu\n",
            "Successfully installed ninja-1.11.1 pennylane-lightning-gpu-0.29.1\n"
          ]
        }
      ]
    },
    {
      "cell_type": "code",
      "source": [
        "!pip install pennylane-lightning[qubits]"
      ],
      "metadata": {
        "id": "5ZIr1O10_MjZ",
        "outputId": "a76db289-66ed-410c-8ed8-905030aa581e",
        "colab": {
          "base_uri": "https://localhost:8080/"
        }
      },
      "execution_count": 3,
      "outputs": [
        {
          "output_type": "stream",
          "name": "stdout",
          "text": [
            "Looking in indexes: https://pypi.org/simple, https://us-python.pkg.dev/colab-wheels/public/simple/\n",
            "Requirement already satisfied: pennylane-lightning[qubits] in /usr/local/lib/python3.9/dist-packages (0.29.0)\n",
            "\u001b[33mWARNING: pennylane-lightning 0.29.0 does not provide the extra 'qubits'\u001b[0m\u001b[33m\n",
            "\u001b[0mRequirement already satisfied: pennylane>=0.28 in /usr/local/lib/python3.9/dist-packages (from pennylane-lightning[qubits]) (0.29.1)\n",
            "Requirement already satisfied: appdirs in /usr/local/lib/python3.9/dist-packages (from pennylane>=0.28->pennylane-lightning[qubits]) (1.4.4)\n",
            "Requirement already satisfied: scipy in /usr/local/lib/python3.9/dist-packages (from pennylane>=0.28->pennylane-lightning[qubits]) (1.10.1)\n",
            "Requirement already satisfied: cachetools in /usr/local/lib/python3.9/dist-packages (from pennylane>=0.28->pennylane-lightning[qubits]) (5.3.0)\n",
            "Requirement already satisfied: toml in /usr/local/lib/python3.9/dist-packages (from pennylane>=0.28->pennylane-lightning[qubits]) (0.10.2)\n",
            "Requirement already satisfied: requests in /usr/local/lib/python3.9/dist-packages (from pennylane>=0.28->pennylane-lightning[qubits]) (2.25.1)\n",
            "Requirement already satisfied: semantic-version>=2.7 in /usr/local/lib/python3.9/dist-packages (from pennylane>=0.28->pennylane-lightning[qubits]) (2.10.0)\n",
            "Requirement already satisfied: networkx in /usr/local/lib/python3.9/dist-packages (from pennylane>=0.28->pennylane-lightning[qubits]) (3.0)\n",
            "Requirement already satisfied: retworkx in /usr/local/lib/python3.9/dist-packages (from pennylane>=0.28->pennylane-lightning[qubits]) (0.12.1)\n",
            "Requirement already satisfied: autoray>=0.3.1 in /usr/local/lib/python3.9/dist-packages (from pennylane>=0.28->pennylane-lightning[qubits]) (0.6.1)\n",
            "Requirement already satisfied: numpy<1.24 in /usr/local/lib/python3.9/dist-packages (from pennylane>=0.28->pennylane-lightning[qubits]) (1.22.4)\n",
            "Requirement already satisfied: autograd in /usr/local/lib/python3.9/dist-packages (from pennylane>=0.28->pennylane-lightning[qubits]) (1.5)\n",
            "Requirement already satisfied: future>=0.15.2 in /usr/local/lib/python3.9/dist-packages (from autograd->pennylane>=0.28->pennylane-lightning[qubits]) (0.16.0)\n",
            "Requirement already satisfied: idna<3,>=2.5 in /usr/local/lib/python3.9/dist-packages (from requests->pennylane>=0.28->pennylane-lightning[qubits]) (2.10)\n",
            "Requirement already satisfied: certifi>=2017.4.17 in /usr/local/lib/python3.9/dist-packages (from requests->pennylane>=0.28->pennylane-lightning[qubits]) (2022.12.7)\n",
            "Requirement already satisfied: chardet<5,>=3.0.2 in /usr/local/lib/python3.9/dist-packages (from requests->pennylane>=0.28->pennylane-lightning[qubits]) (4.0.0)\n",
            "Requirement already satisfied: urllib3<1.27,>=1.21.1 in /usr/local/lib/python3.9/dist-packages (from requests->pennylane>=0.28->pennylane-lightning[qubits]) (1.26.14)\n",
            "Requirement already satisfied: rustworkx==0.12.1 in /usr/local/lib/python3.9/dist-packages (from retworkx->pennylane>=0.28->pennylane-lightning[qubits]) (0.12.1)\n"
          ]
        }
      ]
    },
    {
      "cell_type": "markdown",
      "source": [
        "# Import Libraries"
      ],
      "metadata": {
        "id": "UvBy9rQ7xpls"
      }
    },
    {
      "cell_type": "code",
      "source": [
        "import tensorflow as tf\n",
        "from tensorflow.keras.optimizers import Adam\n",
        "from tensorflow import keras\n",
        "from keras.models import Model\n",
        "from tensorflow.keras import layers\n",
        "\n",
        "import numpy as np\n",
        "import numpy\n",
        "import pandas as pd\n",
        "import seaborn as sns\n",
        "import matplotlib.pyplot as plt\n",
        "import nltk\n",
        "import re\n",
        "\n",
        "import pennylane as qml\n",
        "from pennylane import numpy as p_np\n",
        "\n",
        "from pennylane.templates.state_preparations import MottonenStatePreparation\n",
        "from pennylane.templates.layers import StronglyEntanglingLayers\n",
        "from nltk.corpus import stopwords\n",
        "from keras.preprocessing.text import Tokenizer\n",
        "from keras.preprocessing.sequence import pad_sequences\n",
        "from sklearn.model_selection import train_test_split\n",
        "import tensorflow as tf"
      ],
      "metadata": {
        "_cell_guid": "b1076dfc-b9ad-4769-8c92-a6c4dae69d19",
        "_uuid": "8f2839f25d086af736a60e9eeb907d3b93b6e0e5",
        "id": "C-rU0M1gxplz",
        "execution": {
          "iopub.status.busy": "2022-10-25T23:01:01.065826Z",
          "iopub.execute_input": "2022-10-25T23:01:01.066187Z",
          "iopub.status.idle": "2022-10-25T23:01:01.073487Z",
          "shell.execute_reply.started": "2022-10-25T23:01:01.066157Z",
          "shell.execute_reply": "2022-10-25T23:01:01.072480Z"
        },
        "trusted": true
      },
      "execution_count": 4,
      "outputs": []
    },
    {
      "cell_type": "markdown",
      "source": [
        "# Data Prepare"
      ],
      "metadata": {
        "id": "BBMi7ePjxpl_"
      }
    },
    {
      "cell_type": "code",
      "source": [
        "!git clone https://github.com/mushrafi88/solar_irradiation_forecasting"
      ],
      "metadata": {
        "colab": {
          "base_uri": "https://localhost:8080/"
        },
        "id": "mR6tm1JsKWDX",
        "outputId": "1d02d03a-4593-4ee1-c29a-6b2a0ed626bf"
      },
      "execution_count": 5,
      "outputs": [
        {
          "output_type": "stream",
          "name": "stdout",
          "text": [
            "Cloning into 'solar_irradiation_forecasting'...\n",
            "remote: Enumerating objects: 22, done.\u001b[K\n",
            "remote: Counting objects: 100% (22/22), done.\u001b[K\n",
            "remote: Compressing objects: 100% (18/18), done.\u001b[K\n",
            "remote: Total 22 (delta 6), reused 10 (delta 2), pack-reused 0\u001b[K\n",
            "Unpacking objects: 100% (22/22), 4.53 MiB | 10.58 MiB/s, done.\n"
          ]
        }
      ]
    },
    {
      "cell_type": "code",
      "source": [
        "df = pd.read_csv('/content/solar_irradiation_forecasting/raw_data/solar_radiation_hourly_rangamati_10_years.csv')"
      ],
      "metadata": {
        "id": "CEoXBoo9Ke3R"
      },
      "execution_count": 6,
      "outputs": []
    },
    {
      "cell_type": "code",
      "source": [
        "df = df.dropna(how='any')\n",
        "df.set_index('Time')\n",
        "df.Time = df.Time.astype('int')\n",
        "df = df.drop(index=df[(df == -999).any(axis=1)].index)\n",
        "df=df.drop(columns=['CLRSKY_SFC_SW_DWN','ALLSKY_SFC_LW_DWN'])\n",
        "target = 'ALLSKY_SFC_SW_DWN'\n",
        "features = list(df.columns.difference([target]))"
      ],
      "metadata": {
        "id": "MRDF4XJZ5c1D"
      },
      "execution_count": 7,
      "outputs": []
    },
    {
      "cell_type": "code",
      "source": [
        "df = df.reset_index(drop=True)\n",
        "\n",
        "size = int(len(df) * 0.7)\n",
        "\n",
        "df_train = df.loc[:size].copy()\n",
        "df_test = df.loc[size:].copy()\n",
        "\n",
        "df_train\n"
      ],
      "metadata": {
        "colab": {
          "base_uri": "https://localhost:8080/",
          "height": 424
        },
        "id": "YkPr7XNEKhwg",
        "outputId": "9ef2a1e9-c9e3-46a5-e793-76dd38493410"
      },
      "execution_count": 8,
      "outputs": [
        {
          "output_type": "execute_result",
          "data": {
            "text/plain": [
              "             Time  ALLSKY_SFC_SW_DWN  ALLSKY_KT  ALLSKY_SFC_UV_INDEX    T2M  \\\n",
              "0      2010010106              10.45       0.36                 0.00  12.01   \n",
              "1      2010010107             139.84       0.50                 0.20  13.69   \n",
              "2      2010010108             334.69       0.62                 1.20  15.49   \n",
              "3      2010010109             514.27       0.68                 2.85  18.38   \n",
              "4      2010010110             685.15       0.76                 4.73  20.09   \n",
              "...           ...                ...        ...                  ...    ...   \n",
              "31988  2016123013             598.53       0.69                 4.65  24.44   \n",
              "31989  2016123014             428.91       0.60                 2.75  24.29   \n",
              "31990  2016123015             269.48       0.55                 1.02  23.82   \n",
              "31991  2016123016              96.29       0.45                 0.10  22.76   \n",
              "31992  2016123106               9.24       0.31                 0.00  16.29   \n",
              "\n",
              "       T2MDEW     TS    RH2M      PS  WS50M    SZA  PRECTOTCORR  WS10M   QV2M  \n",
              "0       12.41  12.46  100.00  101.04   4.05  88.82          0.0   2.75   8.91  \n",
              "1       12.87  15.45   94.69  101.15   3.92  78.62          0.0   3.04   9.16  \n",
              "2       13.36  18.74   87.00  101.23   3.58  67.30          0.0   3.17   9.46  \n",
              "3       12.94  21.64   70.50  101.28   4.59  57.47          0.0   4.01   9.22  \n",
              "4       13.10  23.79   64.00  101.25   4.70  50.00          0.0   4.18   9.28  \n",
              "...       ...    ...     ...     ...    ...    ...          ...    ...    ...  \n",
              "31988   18.01  27.44   67.25  101.08   2.40  51.57          0.0   2.25  12.76  \n",
              "31989   17.89  26.30   67.38  101.02   2.33  59.67          0.0   2.20  12.70  \n",
              "31990   17.76  24.51   68.75  101.00   2.24  69.90          0.0   2.05  12.63  \n",
              "31991   18.36  22.15   76.12  101.02   2.45  81.19          0.0   1.84  13.06  \n",
              "31992   16.38  14.96  100.00  101.24   2.21  88.80          0.0   1.69  11.54  \n",
              "\n",
              "[31993 rows x 14 columns]"
            ],
            "text/html": [
              "\n",
              "  <div id=\"df-22715b07-c77d-4225-ba44-fb9c9bee08b1\">\n",
              "    <div class=\"colab-df-container\">\n",
              "      <div>\n",
              "<style scoped>\n",
              "    .dataframe tbody tr th:only-of-type {\n",
              "        vertical-align: middle;\n",
              "    }\n",
              "\n",
              "    .dataframe tbody tr th {\n",
              "        vertical-align: top;\n",
              "    }\n",
              "\n",
              "    .dataframe thead th {\n",
              "        text-align: right;\n",
              "    }\n",
              "</style>\n",
              "<table border=\"1\" class=\"dataframe\">\n",
              "  <thead>\n",
              "    <tr style=\"text-align: right;\">\n",
              "      <th></th>\n",
              "      <th>Time</th>\n",
              "      <th>ALLSKY_SFC_SW_DWN</th>\n",
              "      <th>ALLSKY_KT</th>\n",
              "      <th>ALLSKY_SFC_UV_INDEX</th>\n",
              "      <th>T2M</th>\n",
              "      <th>T2MDEW</th>\n",
              "      <th>TS</th>\n",
              "      <th>RH2M</th>\n",
              "      <th>PS</th>\n",
              "      <th>WS50M</th>\n",
              "      <th>SZA</th>\n",
              "      <th>PRECTOTCORR</th>\n",
              "      <th>WS10M</th>\n",
              "      <th>QV2M</th>\n",
              "    </tr>\n",
              "  </thead>\n",
              "  <tbody>\n",
              "    <tr>\n",
              "      <th>0</th>\n",
              "      <td>2010010106</td>\n",
              "      <td>10.45</td>\n",
              "      <td>0.36</td>\n",
              "      <td>0.00</td>\n",
              "      <td>12.01</td>\n",
              "      <td>12.41</td>\n",
              "      <td>12.46</td>\n",
              "      <td>100.00</td>\n",
              "      <td>101.04</td>\n",
              "      <td>4.05</td>\n",
              "      <td>88.82</td>\n",
              "      <td>0.0</td>\n",
              "      <td>2.75</td>\n",
              "      <td>8.91</td>\n",
              "    </tr>\n",
              "    <tr>\n",
              "      <th>1</th>\n",
              "      <td>2010010107</td>\n",
              "      <td>139.84</td>\n",
              "      <td>0.50</td>\n",
              "      <td>0.20</td>\n",
              "      <td>13.69</td>\n",
              "      <td>12.87</td>\n",
              "      <td>15.45</td>\n",
              "      <td>94.69</td>\n",
              "      <td>101.15</td>\n",
              "      <td>3.92</td>\n",
              "      <td>78.62</td>\n",
              "      <td>0.0</td>\n",
              "      <td>3.04</td>\n",
              "      <td>9.16</td>\n",
              "    </tr>\n",
              "    <tr>\n",
              "      <th>2</th>\n",
              "      <td>2010010108</td>\n",
              "      <td>334.69</td>\n",
              "      <td>0.62</td>\n",
              "      <td>1.20</td>\n",
              "      <td>15.49</td>\n",
              "      <td>13.36</td>\n",
              "      <td>18.74</td>\n",
              "      <td>87.00</td>\n",
              "      <td>101.23</td>\n",
              "      <td>3.58</td>\n",
              "      <td>67.30</td>\n",
              "      <td>0.0</td>\n",
              "      <td>3.17</td>\n",
              "      <td>9.46</td>\n",
              "    </tr>\n",
              "    <tr>\n",
              "      <th>3</th>\n",
              "      <td>2010010109</td>\n",
              "      <td>514.27</td>\n",
              "      <td>0.68</td>\n",
              "      <td>2.85</td>\n",
              "      <td>18.38</td>\n",
              "      <td>12.94</td>\n",
              "      <td>21.64</td>\n",
              "      <td>70.50</td>\n",
              "      <td>101.28</td>\n",
              "      <td>4.59</td>\n",
              "      <td>57.47</td>\n",
              "      <td>0.0</td>\n",
              "      <td>4.01</td>\n",
              "      <td>9.22</td>\n",
              "    </tr>\n",
              "    <tr>\n",
              "      <th>4</th>\n",
              "      <td>2010010110</td>\n",
              "      <td>685.15</td>\n",
              "      <td>0.76</td>\n",
              "      <td>4.73</td>\n",
              "      <td>20.09</td>\n",
              "      <td>13.10</td>\n",
              "      <td>23.79</td>\n",
              "      <td>64.00</td>\n",
              "      <td>101.25</td>\n",
              "      <td>4.70</td>\n",
              "      <td>50.00</td>\n",
              "      <td>0.0</td>\n",
              "      <td>4.18</td>\n",
              "      <td>9.28</td>\n",
              "    </tr>\n",
              "    <tr>\n",
              "      <th>...</th>\n",
              "      <td>...</td>\n",
              "      <td>...</td>\n",
              "      <td>...</td>\n",
              "      <td>...</td>\n",
              "      <td>...</td>\n",
              "      <td>...</td>\n",
              "      <td>...</td>\n",
              "      <td>...</td>\n",
              "      <td>...</td>\n",
              "      <td>...</td>\n",
              "      <td>...</td>\n",
              "      <td>...</td>\n",
              "      <td>...</td>\n",
              "      <td>...</td>\n",
              "    </tr>\n",
              "    <tr>\n",
              "      <th>31988</th>\n",
              "      <td>2016123013</td>\n",
              "      <td>598.53</td>\n",
              "      <td>0.69</td>\n",
              "      <td>4.65</td>\n",
              "      <td>24.44</td>\n",
              "      <td>18.01</td>\n",
              "      <td>27.44</td>\n",
              "      <td>67.25</td>\n",
              "      <td>101.08</td>\n",
              "      <td>2.40</td>\n",
              "      <td>51.57</td>\n",
              "      <td>0.0</td>\n",
              "      <td>2.25</td>\n",
              "      <td>12.76</td>\n",
              "    </tr>\n",
              "    <tr>\n",
              "      <th>31989</th>\n",
              "      <td>2016123014</td>\n",
              "      <td>428.91</td>\n",
              "      <td>0.60</td>\n",
              "      <td>2.75</td>\n",
              "      <td>24.29</td>\n",
              "      <td>17.89</td>\n",
              "      <td>26.30</td>\n",
              "      <td>67.38</td>\n",
              "      <td>101.02</td>\n",
              "      <td>2.33</td>\n",
              "      <td>59.67</td>\n",
              "      <td>0.0</td>\n",
              "      <td>2.20</td>\n",
              "      <td>12.70</td>\n",
              "    </tr>\n",
              "    <tr>\n",
              "      <th>31990</th>\n",
              "      <td>2016123015</td>\n",
              "      <td>269.48</td>\n",
              "      <td>0.55</td>\n",
              "      <td>1.02</td>\n",
              "      <td>23.82</td>\n",
              "      <td>17.76</td>\n",
              "      <td>24.51</td>\n",
              "      <td>68.75</td>\n",
              "      <td>101.00</td>\n",
              "      <td>2.24</td>\n",
              "      <td>69.90</td>\n",
              "      <td>0.0</td>\n",
              "      <td>2.05</td>\n",
              "      <td>12.63</td>\n",
              "    </tr>\n",
              "    <tr>\n",
              "      <th>31991</th>\n",
              "      <td>2016123016</td>\n",
              "      <td>96.29</td>\n",
              "      <td>0.45</td>\n",
              "      <td>0.10</td>\n",
              "      <td>22.76</td>\n",
              "      <td>18.36</td>\n",
              "      <td>22.15</td>\n",
              "      <td>76.12</td>\n",
              "      <td>101.02</td>\n",
              "      <td>2.45</td>\n",
              "      <td>81.19</td>\n",
              "      <td>0.0</td>\n",
              "      <td>1.84</td>\n",
              "      <td>13.06</td>\n",
              "    </tr>\n",
              "    <tr>\n",
              "      <th>31992</th>\n",
              "      <td>2016123106</td>\n",
              "      <td>9.24</td>\n",
              "      <td>0.31</td>\n",
              "      <td>0.00</td>\n",
              "      <td>16.29</td>\n",
              "      <td>16.38</td>\n",
              "      <td>14.96</td>\n",
              "      <td>100.00</td>\n",
              "      <td>101.24</td>\n",
              "      <td>2.21</td>\n",
              "      <td>88.80</td>\n",
              "      <td>0.0</td>\n",
              "      <td>1.69</td>\n",
              "      <td>11.54</td>\n",
              "    </tr>\n",
              "  </tbody>\n",
              "</table>\n",
              "<p>31993 rows × 14 columns</p>\n",
              "</div>\n",
              "      <button class=\"colab-df-convert\" onclick=\"convertToInteractive('df-22715b07-c77d-4225-ba44-fb9c9bee08b1')\"\n",
              "              title=\"Convert this dataframe to an interactive table.\"\n",
              "              style=\"display:none;\">\n",
              "        \n",
              "  <svg xmlns=\"http://www.w3.org/2000/svg\" height=\"24px\"viewBox=\"0 0 24 24\"\n",
              "       width=\"24px\">\n",
              "    <path d=\"M0 0h24v24H0V0z\" fill=\"none\"/>\n",
              "    <path d=\"M18.56 5.44l.94 2.06.94-2.06 2.06-.94-2.06-.94-.94-2.06-.94 2.06-2.06.94zm-11 1L8.5 8.5l.94-2.06 2.06-.94-2.06-.94L8.5 2.5l-.94 2.06-2.06.94zm10 10l.94 2.06.94-2.06 2.06-.94-2.06-.94-.94-2.06-.94 2.06-2.06.94z\"/><path d=\"M17.41 7.96l-1.37-1.37c-.4-.4-.92-.59-1.43-.59-.52 0-1.04.2-1.43.59L10.3 9.45l-7.72 7.72c-.78.78-.78 2.05 0 2.83L4 21.41c.39.39.9.59 1.41.59.51 0 1.02-.2 1.41-.59l7.78-7.78 2.81-2.81c.8-.78.8-2.07 0-2.86zM5.41 20L4 18.59l7.72-7.72 1.47 1.35L5.41 20z\"/>\n",
              "  </svg>\n",
              "      </button>\n",
              "      \n",
              "  <style>\n",
              "    .colab-df-container {\n",
              "      display:flex;\n",
              "      flex-wrap:wrap;\n",
              "      gap: 12px;\n",
              "    }\n",
              "\n",
              "    .colab-df-convert {\n",
              "      background-color: #E8F0FE;\n",
              "      border: none;\n",
              "      border-radius: 50%;\n",
              "      cursor: pointer;\n",
              "      display: none;\n",
              "      fill: #1967D2;\n",
              "      height: 32px;\n",
              "      padding: 0 0 0 0;\n",
              "      width: 32px;\n",
              "    }\n",
              "\n",
              "    .colab-df-convert:hover {\n",
              "      background-color: #E2EBFA;\n",
              "      box-shadow: 0px 1px 2px rgba(60, 64, 67, 0.3), 0px 1px 3px 1px rgba(60, 64, 67, 0.15);\n",
              "      fill: #174EA6;\n",
              "    }\n",
              "\n",
              "    [theme=dark] .colab-df-convert {\n",
              "      background-color: #3B4455;\n",
              "      fill: #D2E3FC;\n",
              "    }\n",
              "\n",
              "    [theme=dark] .colab-df-convert:hover {\n",
              "      background-color: #434B5C;\n",
              "      box-shadow: 0px 1px 3px 1px rgba(0, 0, 0, 0.15);\n",
              "      filter: drop-shadow(0px 1px 2px rgba(0, 0, 0, 0.3));\n",
              "      fill: #FFFFFF;\n",
              "    }\n",
              "  </style>\n",
              "\n",
              "      <script>\n",
              "        const buttonEl =\n",
              "          document.querySelector('#df-22715b07-c77d-4225-ba44-fb9c9bee08b1 button.colab-df-convert');\n",
              "        buttonEl.style.display =\n",
              "          google.colab.kernel.accessAllowed ? 'block' : 'none';\n",
              "\n",
              "        async function convertToInteractive(key) {\n",
              "          const element = document.querySelector('#df-22715b07-c77d-4225-ba44-fb9c9bee08b1');\n",
              "          const dataTable =\n",
              "            await google.colab.kernel.invokeFunction('convertToInteractive',\n",
              "                                                     [key], {});\n",
              "          if (!dataTable) return;\n",
              "\n",
              "          const docLinkHtml = 'Like what you see? Visit the ' +\n",
              "            '<a target=\"_blank\" href=https://colab.research.google.com/notebooks/data_table.ipynb>data table notebook</a>'\n",
              "            + ' to learn more about interactive tables.';\n",
              "          element.innerHTML = '';\n",
              "          dataTable['output_type'] = 'display_data';\n",
              "          await google.colab.output.renderOutput(dataTable, element);\n",
              "          const docLink = document.createElement('div');\n",
              "          docLink.innerHTML = docLinkHtml;\n",
              "          element.appendChild(docLink);\n",
              "        }\n",
              "      </script>\n",
              "    </div>\n",
              "  </div>\n",
              "  "
            ]
          },
          "metadata": {},
          "execution_count": 8
        }
      ]
    },
    {
      "cell_type": "code",
      "source": [
        "target_mean = df_train[target].mean()\n",
        "target_stdev = df_train[target].std()\n",
        "\n",
        "for c in df_train.columns:\n",
        "    mean = df_train[c].mean()\n",
        "    stdev = df_train[c].std()\n",
        "\n",
        "    df_train[c] = (df_train[c] - mean) / stdev\n",
        "    df_test[c] = (df_test[c] - mean) / stdev\n"
      ],
      "metadata": {
        "id": "4ij4uPvXdbkO"
      },
      "execution_count": 9,
      "outputs": []
    },
    {
      "cell_type": "code",
      "source": [
        "df_train = df_train.sample(100)\n",
        "df_test = df_test.sample(20)"
      ],
      "metadata": {
        "id": "IlzHqUXceCVR"
      },
      "execution_count": 18,
      "outputs": []
    },
    {
      "cell_type": "code",
      "source": [
        "X_train = df_train[features].values\n",
        "y_train = df_train[target].values\n",
        "X_test = df_test[features].values\n",
        "y_test = df_test[target].values"
      ],
      "metadata": {
        "id": "OndnMnoIddbg"
      },
      "execution_count": 19,
      "outputs": []
    },
    {
      "cell_type": "markdown",
      "source": [
        "# Preparation of Quantum5"
      ],
      "metadata": {
        "id": "QVUvNuBBfCpp"
      }
    },
    {
      "cell_type": "code",
      "source": [
        "n_qubits = 13\n",
        "dev = qml.device(\"default.qubit\", wires=n_qubits)\n",
        "\n",
        "@qml.qnode(dev)\n",
        "def qnode(inputs, weights):\n",
        "    qml.AngleEmbedding(inputs, wires=range(n_qubits))\n",
        "    qml.BasicEntanglerLayers(weights, wires=range(n_qubits))\n",
        "    return [qml.expval(qml.PauliZ(wires=i)) for i in range(n_qubits)]\n",
        "\n",
        "n_layers = 8\n",
        "weight_shapes = {\"weights\": (n_layers, n_qubits)}"
      ],
      "metadata": {
        "execution": {
          "iopub.status.busy": "2022-10-25T22:42:32.059380Z",
          "iopub.execute_input": "2022-10-25T22:42:32.059753Z",
          "iopub.status.idle": "2022-10-25T22:42:32.085463Z",
          "shell.execute_reply.started": "2022-10-25T22:42:32.059721Z",
          "shell.execute_reply": "2022-10-25T22:42:32.084590Z"
        },
        "trusted": true,
        "id": "D3CDPY-gfCpq"
      },
      "execution_count": 12,
      "outputs": []
    },
    {
      "cell_type": "code",
      "source": [
        "clayer_1 = tf.keras.layers.Dense(13, activation=\"relu\")\n",
        "\n",
        "# construct the model\n",
        "inputs = tf.keras.Input(shape=(13,))\n",
        "x = clayer_1(inputs)\n",
        "x = tf.keras.layers.Dropout(0.1)(x)\n",
        "\n",
        "x = qml.qnn.KerasLayer(qnode, weight_shapes, output_dim=1)(x)\n",
        "\n",
        "model = tf.keras.Model(inputs=inputs, outputs=x)\n",
        "opt = tf.keras.optimizers.SGD(learning_rate=0.2)\n",
        "model.compile(opt, loss=\"mse\", metrics=[\"accuracy\"])"
      ],
      "metadata": {
        "id": "aiFLKbec17zG"
      },
      "execution_count": 13,
      "outputs": []
    },
    {
      "cell_type": "markdown",
      "source": [
        "# Model Fitting"
      ],
      "metadata": {
        "id": "pUeMHtsHfCpq"
      }
    },
    {
      "cell_type": "code",
      "source": [
        "model_fit = model.fit(X_train, y_train, epochs=20, batch_size=1, validation_data=(X_test,y_test), verbose=2,callbacks=[keras.callbacks.ModelCheckpoint(\"/content/model/model_{epoch}.h5\")])"
      ],
      "metadata": {
        "colab": {
          "base_uri": "https://localhost:8080/"
        },
        "id": "sZUC9Tv-2JY6",
        "outputId": "b86f354e-51ae-4e6c-f4f4-8651ebf6ace4"
      },
      "execution_count": 20,
      "outputs": [
        {
          "output_type": "stream",
          "name": "stdout",
          "text": [
            "Epoch 1/20\n",
            "100/100 - 93s - loss: 1.0020 - accuracy: 0.0000e+00 - val_loss: 1.0793 - val_accuracy: 0.0000e+00 - 93s/epoch - 932ms/step\n",
            "Epoch 2/20\n",
            "100/100 - 94s - loss: 0.9838 - accuracy: 0.0000e+00 - val_loss: 1.0554 - val_accuracy: 0.0000e+00 - 94s/epoch - 940ms/step\n",
            "Epoch 3/20\n",
            "100/100 - 95s - loss: 0.9408 - accuracy: 0.0000e+00 - val_loss: 0.9995 - val_accuracy: 0.0000e+00 - 95s/epoch - 948ms/step\n",
            "Epoch 4/20\n",
            "100/100 - 92s - loss: 0.8192 - accuracy: 0.0000e+00 - val_loss: 0.8034 - val_accuracy: 0.0000e+00 - 92s/epoch - 924ms/step\n",
            "Epoch 5/20\n",
            "100/100 - 93s - loss: 0.7740 - accuracy: 0.0000e+00 - val_loss: 0.8823 - val_accuracy: 0.0000e+00 - 93s/epoch - 925ms/step\n",
            "Epoch 6/20\n",
            "100/100 - 92s - loss: 0.7410 - accuracy: 0.0000e+00 - val_loss: 0.7769 - val_accuracy: 0.0000e+00 - 92s/epoch - 918ms/step\n",
            "Epoch 7/20\n",
            "100/100 - 93s - loss: 0.7093 - accuracy: 0.0000e+00 - val_loss: 0.7709 - val_accuracy: 0.0000e+00 - 93s/epoch - 931ms/step\n",
            "Epoch 8/20\n",
            "100/100 - 91s - loss: 0.7848 - accuracy: 0.0000e+00 - val_loss: 0.9603 - val_accuracy: 0.0000e+00 - 91s/epoch - 913ms/step\n",
            "Epoch 9/20\n",
            "100/100 - 95s - loss: 0.7266 - accuracy: 0.0000e+00 - val_loss: 0.8191 - val_accuracy: 0.0000e+00 - 95s/epoch - 955ms/step\n",
            "Epoch 10/20\n",
            "100/100 - 95s - loss: 0.7406 - accuracy: 0.0000e+00 - val_loss: 0.8602 - val_accuracy: 0.0000e+00 - 95s/epoch - 945ms/step\n",
            "Epoch 11/20\n",
            "100/100 - 93s - loss: 0.7353 - accuracy: 0.0000e+00 - val_loss: 0.9039 - val_accuracy: 0.0000e+00 - 93s/epoch - 925ms/step\n",
            "Epoch 12/20\n",
            "100/100 - 91s - loss: 0.6985 - accuracy: 0.0000e+00 - val_loss: 0.9047 - val_accuracy: 0.0000e+00 - 91s/epoch - 910ms/step\n",
            "Epoch 13/20\n",
            "100/100 - 92s - loss: 0.7403 - accuracy: 0.0000e+00 - val_loss: 0.9484 - val_accuracy: 0.0000e+00 - 92s/epoch - 919ms/step\n",
            "Epoch 14/20\n",
            "100/100 - 95s - loss: 0.8345 - accuracy: 0.0000e+00 - val_loss: 0.9917 - val_accuracy: 0.0000e+00 - 95s/epoch - 946ms/step\n",
            "Epoch 15/20\n",
            "100/100 - 90s - loss: 0.7852 - accuracy: 0.0000e+00 - val_loss: 0.9239 - val_accuracy: 0.0000e+00 - 90s/epoch - 899ms/step\n",
            "Epoch 16/20\n",
            "100/100 - 93s - loss: 0.7713 - accuracy: 0.0000e+00 - val_loss: 0.9124 - val_accuracy: 0.0000e+00 - 93s/epoch - 934ms/step\n",
            "Epoch 17/20\n",
            "100/100 - 92s - loss: 0.7669 - accuracy: 0.0000e+00 - val_loss: 0.9772 - val_accuracy: 0.0000e+00 - 92s/epoch - 924ms/step\n",
            "Epoch 18/20\n",
            "100/100 - 92s - loss: 0.7404 - accuracy: 0.0000e+00 - val_loss: 0.9671 - val_accuracy: 0.0000e+00 - 92s/epoch - 924ms/step\n",
            "Epoch 19/20\n",
            "100/100 - 90s - loss: 0.7340 - accuracy: 0.0000e+00 - val_loss: 0.9689 - val_accuracy: 0.0000e+00 - 90s/epoch - 899ms/step\n",
            "Epoch 20/20\n",
            "100/100 - 94s - loss: 0.7330 - accuracy: 0.0000e+00 - val_loss: 0.8926 - val_accuracy: 0.0000e+00 - 94s/epoch - 938ms/step\n"
          ]
        }
      ]
    },
    {
      "cell_type": "markdown",
      "source": [
        "**Model Evaluate for Quantum**"
      ],
      "metadata": {
        "id": "UfwZBIOM_5e3"
      }
    },
    {
      "cell_type": "code",
      "source": [
        "model.evaluate(X_test,y_test)"
      ],
      "metadata": {
        "colab": {
          "base_uri": "https://localhost:8080/"
        },
        "id": "gxv2WMpM_3W4",
        "outputId": "b036ac97-34f5-4865-977b-3ee8eb4037db"
      },
      "execution_count": 21,
      "outputs": [
        {
          "output_type": "stream",
          "name": "stdout",
          "text": [
            "1/1 [==============================] - 8s 8s/step - loss: 0.8926 - accuracy: 0.0000e+00\n"
          ]
        },
        {
          "output_type": "execute_result",
          "data": {
            "text/plain": [
              "[0.8926339149475098, 0.0]"
            ]
          },
          "metadata": {},
          "execution_count": 21
        }
      ]
    },
    {
      "cell_type": "markdown",
      "source": [
        "## Model Summary and Chart for Quantum\n"
      ],
      "metadata": {
        "id": "ONb-tzlvjBot"
      }
    },
    {
      "cell_type": "markdown",
      "source": [
        "**Model Summary for Quantum**"
      ],
      "metadata": {
        "id": "lJq78CWKND2z"
      }
    },
    {
      "cell_type": "code",
      "source": [
        "model.summary()"
      ],
      "metadata": {
        "colab": {
          "base_uri": "https://localhost:8080/"
        },
        "id": "vx_3MbVg48_v",
        "outputId": "18688165-62c4-403d-e214-6b61f5ebb097"
      },
      "execution_count": 22,
      "outputs": [
        {
          "output_type": "stream",
          "name": "stdout",
          "text": [
            "Model: \"model\"\n",
            "_________________________________________________________________\n",
            " Layer (type)                Output Shape              Param #   \n",
            "=================================================================\n",
            " input_1 (InputLayer)        [(None, 13)]              0         \n",
            "                                                                 \n",
            " dense (Dense)               (None, 13)                182       \n",
            "                                                                 \n",
            " dropout (Dropout)           (None, 13)                0         \n",
            "                                                                 \n",
            " keras_layer (KerasLayer)    (None, 1)                 104       \n",
            "                                                                 \n",
            "=================================================================\n",
            "Total params: 286\n",
            "Trainable params: 286\n",
            "Non-trainable params: 0\n",
            "_________________________________________________________________\n"
          ]
        }
      ]
    }
  ]
}