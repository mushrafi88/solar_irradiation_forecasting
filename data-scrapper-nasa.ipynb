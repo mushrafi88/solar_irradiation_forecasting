{
 "cells": [
  {
   "cell_type": "code",
   "execution_count": 1,
   "id": "cae17b9c",
   "metadata": {
    "execution": {
     "iopub.execute_input": "2023-03-06T22:01:55.635453Z",
     "iopub.status.busy": "2023-03-06T22:01:55.634685Z",
     "iopub.status.idle": "2023-03-06T22:01:56.174281Z",
     "shell.execute_reply": "2023-03-06T22:01:56.173017Z"
    },
    "papermill": {
     "duration": 0.547677,
     "end_time": "2023-03-06T22:01:56.177091",
     "exception": false,
     "start_time": "2023-03-06T22:01:55.629414",
     "status": "completed"
    },
    "tags": []
   },
   "outputs": [],
   "source": [
    "%mkdir -p download_data/{single_point,region}\n",
    "%mkdir -p download_data/single_point/{hourly,daily}"
   ]
  },
  {
   "cell_type": "code",
   "execution_count": 2,
   "id": "06e3b962",
   "metadata": {
    "execution": {
     "iopub.execute_input": "2023-03-06T22:01:56.185250Z",
     "iopub.status.busy": "2023-03-06T22:01:56.184547Z",
     "iopub.status.idle": "2023-03-06T22:02:10.403198Z",
     "shell.execute_reply": "2023-03-06T22:02:10.401478Z"
    },
    "papermill": {
     "duration": 14.225788,
     "end_time": "2023-03-06T22:02:10.405962",
     "exception": false,
     "start_time": "2023-03-06T22:01:56.180174",
     "status": "completed"
    },
    "tags": []
   },
   "outputs": [
    {
     "name": "stdout",
     "output_type": "stream",
     "text": [
      "\n",
      "\n",
      "Total Script Time: 14.2\n"
     ]
    },
    {
     "name": "stderr",
     "output_type": "stream",
     "text": [
      "Exporting 100.000000%"
     ]
    }
   ],
   "source": [
    "'''\n",
    "*Version: 2.0 Published: 2021/03/09* Source: [NASA POWER](https://power.larc.nasa.gov/)\n",
    "POWER API Multi-Point Download\n",
    "This is an overview of the process to request data from multiple data points from the POWER API.\n",
    "'''\n",
    "\n",
    "import os, sys, time, json, urllib3, requests, multiprocessing\n",
    "\n",
    "urllib3.disable_warnings()\n",
    "\n",
    "def download_function(collection):\n",
    "    ''' '''\n",
    "\n",
    "    request, filepath = collection\n",
    "    response = requests.get(url=request, verify=False, timeout=30.00).json()\n",
    "\n",
    "    with open(filepath, 'w') as file_object:\n",
    "        json.dump(response, file_object)\n",
    "\n",
    "class Process():\n",
    "\n",
    "    def __init__(self):\n",
    "\n",
    "        self.processes = 5 # Please do not go more than five concurrent requests.\n",
    "\n",
    "        self.request_template = r\"https://power.larc.nasa.gov/api/temporal/daily/point?parameters=ALLSKY_SFC_SW_DWN,CLRSKY_SFC_SW_DWN,ALLSKY_KT,ALLSKY_SFC_LW_DWN,ALLSKY_SFC_UV_INDEX,T2M,T2MDEW,TS,T2M_RANGE,T2M_MAX,T2M_MIN,RH2M,PS,WS50M&community=RE&longitude={longitude}&latitude={latitude}&start=19940101&end=20191230&format=JSON\"\n",
    "        self.filename_template = \"download_data/single_point/daily/File_Lat_{latitude}_Lon_{longitude}.json\"\n",
    "\n",
    "        self.messages = []\n",
    "        self.times = {}\n",
    "\n",
    "    def execute(self):\n",
    "\n",
    "        Start_Time = time.time()\n",
    "\n",
    "        locations = [(22.67,92.11)]\n",
    "\n",
    "        requests = []\n",
    "        for latitude, longitude in locations:\n",
    "            request = self.request_template.format(latitude=latitude, longitude=longitude)\n",
    "            filename = self.filename_template.format(latitude=latitude, longitude=longitude)\n",
    "            requests.append((request, filename))\n",
    "\n",
    "        requests_total = len(requests)\n",
    "\n",
    "        pool = multiprocessing.Pool(self.processes)\n",
    "        x = pool.imap_unordered(download_function, requests)\n",
    "\n",
    "        for i, df in enumerate(x, 1):\n",
    "            sys.stderr.write('\\rExporting {0:%}'.format(i/requests_total))\n",
    "\n",
    "        self.times[\"Total Script\"] = round((time.time() - Start_Time), 2)\n",
    "\n",
    "        print (\"\\n\")\n",
    "        print (\"Total Script Time:\", self.times[\"Total Script\"])\n",
    "\n",
    "if __name__ == '__main__':\n",
    "    Process().execute()\n"
   ]
  },
  {
   "cell_type": "markdown",
   "id": "7e1870b7",
   "metadata": {
    "papermill": {
     "duration": 0.002743,
     "end_time": "2023-03-06T22:02:10.411733",
     "exception": false,
     "start_time": "2023-03-06T22:02:10.408990",
     "status": "completed"
    },
    "tags": []
   },
   "source": [
    "# single point hourly"
   ]
  },
  {
   "cell_type": "code",
   "execution_count": 3,
   "id": "8729eb0c",
   "metadata": {
    "execution": {
     "iopub.execute_input": "2023-03-06T22:02:10.419906Z",
     "iopub.status.busy": "2023-03-06T22:02:10.419542Z",
     "iopub.status.idle": "2023-03-06T22:02:36.907783Z",
     "shell.execute_reply": "2023-03-06T22:02:36.906281Z"
    },
    "papermill": {
     "duration": 26.495946,
     "end_time": "2023-03-06T22:02:36.910730",
     "exception": false,
     "start_time": "2023-03-06T22:02:10.414784",
     "status": "completed"
    },
    "tags": []
   },
   "outputs": [
    {
     "name": "stdout",
     "output_type": "stream",
     "text": [
      "\n",
      "\n",
      "Total Script Time: 26.47\n"
     ]
    },
    {
     "name": "stderr",
     "output_type": "stream",
     "text": [
      "Exporting 100.000000%"
     ]
    }
   ],
   "source": [
    "'''\n",
    "*Version: 2.0 Published: 2021/03/09* Source: [NASA POWER](https://power.larc.nasa.gov/)\n",
    "POWER API Multi-Point Download\n",
    "This is an overview of the process to request data from multiple data points from the POWER API.\n",
    "'''\n",
    "\n",
    "import os, sys, time, json, urllib3, requests, multiprocessing\n",
    "\n",
    "urllib3.disable_warnings()\n",
    "\n",
    "def download_function(collection):\n",
    "    ''' '''\n",
    "\n",
    "    request, filepath = collection\n",
    "    response = requests.get(url=request, verify=False, timeout=30.00).json()\n",
    "\n",
    "    with open(filepath, 'w') as file_object:\n",
    "        json.dump(response, file_object)\n",
    "\n",
    "class Process():\n",
    "\n",
    "    def __init__(self):\n",
    "\n",
    "        self.processes = 5 # Please do not go more than five concurrent requests.\n",
    "\n",
    "        self.request_template = r\"https://power.larc.nasa.gov/api/temporal/hourly/point?parameters=ALLSKY_SFC_SW_DWN,CLRSKY_SFC_SW_DWN,ALLSKY_KT,ALLSKY_SFC_LW_DWN,ALLSKY_SFC_UV_INDEX,T2M,T2MDEW,TS,RH2M,PS,WS50M&community=RE&longitude={longitude}&latitude={latitude}&start=20180101&end=20191230&format=JSON\"\n",
    "        self.filename_template = \"download_data/single_point/hourly/File_Lat_{latitude}_Lon_{longitude}.json\"\n",
    "\n",
    "        self.messages = []\n",
    "        self.times = {}\n",
    "\n",
    "    def execute(self):\n",
    "\n",
    "        Start_Time = time.time()\n",
    "\n",
    "        locations = [(22.67,92.11)]\n",
    "\n",
    "        requests = []\n",
    "        for latitude, longitude in locations:\n",
    "            request = self.request_template.format(latitude=latitude, longitude=longitude)\n",
    "            filename = self.filename_template.format(latitude=latitude, longitude=longitude)\n",
    "            requests.append((request, filename))\n",
    "\n",
    "        requests_total = len(requests)\n",
    "\n",
    "        pool = multiprocessing.Pool(self.processes)\n",
    "        x = pool.imap_unordered(download_function, requests)\n",
    "\n",
    "        for i, df in enumerate(x, 1):\n",
    "            sys.stderr.write('\\rExporting {0:%}'.format(i/requests_total))\n",
    "\n",
    "        self.times[\"Total Script\"] = round((time.time() - Start_Time), 2)\n",
    "\n",
    "        print (\"\\n\")\n",
    "        print (\"Total Script Time:\", self.times[\"Total Script\"])\n",
    "\n",
    "if __name__ == '__main__':\n",
    "    Process().execute()\n"
   ]
  },
  {
   "cell_type": "code",
   "execution_count": 4,
   "id": "41f5679e",
   "metadata": {
    "execution": {
     "iopub.execute_input": "2023-03-06T22:02:36.919347Z",
     "iopub.status.busy": "2023-03-06T22:02:36.918957Z",
     "iopub.status.idle": "2023-03-06T22:02:36.967484Z",
     "shell.execute_reply": "2023-03-06T22:02:36.965626Z"
    },
    "papermill": {
     "duration": 0.055842,
     "end_time": "2023-03-06T22:02:36.969771",
     "exception": false,
     "start_time": "2023-03-06T22:02:36.913929",
     "status": "completed"
    },
    "tags": []
   },
   "outputs": [
    {
     "name": "stdout",
     "output_type": "stream",
     "text": [
      "['type', 'geometry', 'properties', 'header', 'messages', 'parameters', 'times']\n"
     ]
    },
    {
     "data": {
      "text/plain": [
       "9495"
      ]
     },
     "execution_count": 4,
     "metadata": {},
     "output_type": "execute_result"
    }
   ],
   "source": [
    "import json\n",
    "file = open('download_data/single_point/daily/File_Lat_22.67_Lon_92.11.json')\n",
    "daily = json.load(file)\n",
    "\n",
    "print(list(daily.keys()))\n",
    "\n",
    "len(list(daily['properties']['parameter']['ALLSKY_SFC_SW_DWN'].keys()))"
   ]
  },
  {
   "cell_type": "code",
   "execution_count": 5,
   "id": "608b5d08",
   "metadata": {
    "execution": {
     "iopub.execute_input": "2023-03-06T22:02:36.978230Z",
     "iopub.status.busy": "2023-03-06T22:02:36.977842Z",
     "iopub.status.idle": "2023-03-06T22:02:37.040834Z",
     "shell.execute_reply": "2023-03-06T22:02:37.039995Z"
    },
    "papermill": {
     "duration": 0.069958,
     "end_time": "2023-03-06T22:02:37.043001",
     "exception": false,
     "start_time": "2023-03-06T22:02:36.973043",
     "status": "completed"
    },
    "tags": []
   },
   "outputs": [
    {
     "name": "stdout",
     "output_type": "stream",
     "text": [
      "['type', 'geometry', 'properties', 'header', 'messages', 'parameters', 'times']\n"
     ]
    },
    {
     "data": {
      "text/plain": [
       "17496"
      ]
     },
     "execution_count": 5,
     "metadata": {},
     "output_type": "execute_result"
    }
   ],
   "source": [
    "import json\n",
    "file = open('download_data/single_point/hourly/File_Lat_22.67_Lon_92.11.json')\n",
    "hourly = json.load(file)\n",
    "\n",
    "hourly\n",
    "\n",
    "print(list(hourly.keys()))\n",
    "\n",
    "len(list(hourly['properties']['parameter']['ALLSKY_SFC_SW_DWN'].keys()))"
   ]
  },
  {
   "cell_type": "markdown",
   "id": "685721ea",
   "metadata": {
    "papermill": {
     "duration": 0.003057,
     "end_time": "2023-03-06T22:02:37.049431",
     "exception": false,
     "start_time": "2023-03-06T22:02:37.046374",
     "status": "completed"
    },
    "tags": []
   },
   "source": [
    "# Region"
   ]
  },
  {
   "cell_type": "code",
   "execution_count": 6,
   "id": "60ceb31f",
   "metadata": {
    "execution": {
     "iopub.execute_input": "2023-03-06T22:02:37.057686Z",
     "iopub.status.busy": "2023-03-06T22:02:37.057331Z",
     "iopub.status.idle": "2023-03-07T03:05:16.092724Z",
     "shell.execute_reply": "2023-03-07T03:05:16.087605Z"
    },
    "papermill": {
     "duration": 18159.044073,
     "end_time": "2023-03-07T03:05:16.096762",
     "exception": false,
     "start_time": "2023-03-06T22:02:37.052689",
     "status": "completed"
    },
    "tags": []
   },
   "outputs": [
    {
     "name": "stderr",
     "output_type": "stream",
     "text": [
      "Exporting 99.989990%"
     ]
    },
    {
     "name": "stdout",
     "output_type": "stream",
     "text": [
      "\n",
      "\n",
      "Total Script Time: 18158.98\n"
     ]
    },
    {
     "name": "stderr",
     "output_type": "stream",
     "text": [
      "Exporting 100.000000%"
     ]
    }
   ],
   "source": [
    "'''\n",
    "*Version: 1.0 Published: 2020/02/11* Source: [NASA POWER](https://power.larc.nasa.gov/)\n",
    "POWER API Multipoint Download (CSV)\n",
    "This is an overview of the process to request data from multiple data points from the POWER API.\n",
    "'''\n",
    "\n",
    "import os, sys, time, json, urllib3, requests, multiprocessing\n",
    "\n",
    "urllib3.disable_warnings()\n",
    "\n",
    "import numpy as np\n",
    "import pandas as pd\n",
    "\n",
    "def download_function(collection):\n",
    "    ''' '''\n",
    "\n",
    "    request, filepath = collection\n",
    "    response = requests.get(url=request, verify=False, timeout=30.00).json()\n",
    "\n",
    "    with open(filepath, 'w') as file_object:\n",
    "        json.dump(response, file_object)\n",
    "        \n",
    "        \n",
    "class Process():\n",
    "\n",
    "    def __init__(self):\n",
    "\n",
    "        self.processes = 5 # Please do not go more than five concurrent requests.\n",
    "\n",
    "        self.request_template = r\"https://power.larc.nasa.gov/api/temporal/daily/point?parameters=ALLSKY_SFC_SW_DWN,CLRSKY_SFC_SW_DWN,ALLSKY_KT,ALLSKY_SFC_LW_DWN,ALLSKY_SFC_UV_INDEX,T2M,T2MDEW,TS,T2M_RANGE,T2M_MAX,T2M_MIN,RH2M,PS,WS50M&community=RE&longitude={longitude}&latitude={latitude}&start=20040101&end=20191230&format=JSON\"\n",
    "        self.filename_template = \"download_data/region/File_Lat_{latitude}_Lon_{longitude}.json\"\n",
    "\n",
    "        self.messages = []\n",
    "        self.times = {}\n",
    "\n",
    "    def execute(self):\n",
    "\n",
    "        Start_Time = time.time()\n",
    "\n",
    "        latitudes = np.arange(22.04, 23.14, 0.01) # Update your download extent.\n",
    "        longitudes = np.arange(92.06, 92.95, 0.01) # Update your download extent.\n",
    "\n",
    "        requests = []\n",
    "        for longitude in longitudes:\n",
    "            for latitude in latitudes:\n",
    "                request = self.request_template.format(latitude=latitude, longitude=longitude)\n",
    "                filename = self.filename_template.format(latitude=latitude, longitude=longitude)\n",
    "                requests.append((request, filename))\n",
    "\n",
    "        requests_total = len(requests)\n",
    "\n",
    "        pool = multiprocessing.Pool(self.processes)\n",
    "        x = pool.imap_unordered(download_function, requests)\n",
    "\n",
    "        for i, df in enumerate(x, 1):\n",
    "            sys.stderr.write('\\rExporting {0:%}'.format(i/requests_total))\n",
    "\n",
    "        self.times[\"Total Script\"] = round((time.time() - Start_Time), 2)\n",
    "\n",
    "        print (\"\\n\")\n",
    "        print (\"Total Script Time:\", self.times[\"Total Script\"])\n",
    "        \n",
    "if __name__ == '__main__':\n",
    "    Process().execute()"
   ]
  },
  {
   "cell_type": "code",
   "execution_count": 7,
   "id": "a5b05b78",
   "metadata": {
    "execution": {
     "iopub.execute_input": "2023-03-07T03:05:17.129040Z",
     "iopub.status.busy": "2023-03-07T03:05:17.128108Z",
     "iopub.status.idle": "2023-03-07T03:05:17.232739Z",
     "shell.execute_reply": "2023-03-07T03:05:17.230898Z"
    },
    "papermill": {
     "duration": 0.62406,
     "end_time": "2023-03-07T03:05:17.235672",
     "exception": false,
     "start_time": "2023-03-07T03:05:16.611612",
     "status": "completed"
    },
    "tags": []
   },
   "outputs": [
    {
     "name": "stdout",
     "output_type": "stream",
     "text": [
      "['type', 'geometry', 'properties', 'header', 'messages', 'parameters', 'times']\n"
     ]
    },
    {
     "data": {
      "text/plain": [
       "5843"
      ]
     },
     "execution_count": 7,
     "metadata": {},
     "output_type": "execute_result"
    }
   ],
   "source": [
    "file = 'download_data/region/File_Lat_22.17000000000002_Lon_92.06.json'\n",
    "\n",
    "import json\n",
    "file = open(file)\n",
    "daily = json.load(file)\n",
    "\n",
    "print(list(daily.keys()))\n",
    "\n",
    "len(list(daily['properties']['parameter']['ALLSKY_SFC_SW_DWN'].keys()))"
   ]
  }
 ],
 "metadata": {
  "kernelspec": {
   "display_name": "Python 3",
   "language": "python",
   "name": "python3"
  },
  "language_info": {
   "codemirror_mode": {
    "name": "ipython",
    "version": 3
   },
   "file_extension": ".py",
   "mimetype": "text/x-python",
   "name": "python",
   "nbconvert_exporter": "python",
   "pygments_lexer": "ipython3",
   "version": "3.7.12"
  },
  "papermill": {
   "default_parameters": {},
   "duration": 18214.38762,
   "end_time": "2023-03-07T03:05:20.585808",
   "environment_variables": {},
   "exception": null,
   "input_path": "__notebook__.ipynb",
   "output_path": "__notebook__.ipynb",
   "parameters": {},
   "start_time": "2023-03-06T22:01:46.198188",
   "version": "2.4.0"
  }
 },
 "nbformat": 4,
 "nbformat_minor": 5
}
